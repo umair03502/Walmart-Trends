{
 "cells": [
  {
   "cell_type": "code",
   "execution_count": 1,
   "id": "d9aecbef",
   "metadata": {},
   "outputs": [
    {
     "name": "stdout",
     "output_type": "stream",
     "text": [
      "Original shape: (6435, 6)\n",
      "Shape after removing outliers: (5917, 6)\n",
      "Number of removed rows: 518\n",
      "     Store  Weekly_Sales  Temperature  Fuel_Price         CPI  Unemployment\n",
      "189      2    3436007.68        49.97       2.886  211.064660         8.163\n",
      "241      2    3224369.80        46.66       3.112  218.999550         7.441\n",
      "471      4    2789469.45        48.08       2.752  126.669267         7.127\n",
      "474      4    2740057.14        46.57       2.884  126.879484         7.127\n",
      "475      4    3526713.39        43.21       2.887  126.983581         7.127\n",
      "Summary statistics of the removed rows (outliers):\n",
      "           Store  Weekly_Sales  Temperature  Fuel_Price         CPI  \\\n",
      "count  518.00000  5.180000e+02   518.000000  518.000000  518.000000   \n",
      "mean    25.27027  1.134370e+06    63.295309    3.564948  132.229724   \n",
      "std     11.48055  6.851813e+05    18.920199    0.416317   12.806478   \n",
      "min      2.00000  3.039088e+05    -2.060000    2.752000  126.064000   \n",
      "25%     12.00000  8.044205e+05    50.430000    3.129000  126.669267   \n",
      "50%     28.00000  1.048987e+06    64.210000    3.657000  129.347274   \n",
      "75%     38.00000  1.336272e+06    78.080000    3.887750  131.037548   \n",
      "max     40.00000  3.818686e+06    99.220000    4.294000  218.999550   \n",
      "\n",
      "       Unemployment  \n",
      "count    518.000000  \n",
      "mean      11.161504  \n",
      "std        3.899529  \n",
      "min        3.879000  \n",
      "25%        7.935500  \n",
      "50%       13.503000  \n",
      "75%       14.021000  \n",
      "max       14.313000  \n"
     ]
    }
   ],
   "source": [
    "import pandas as pd\n",
    "\n",
    "# Assuming you have loaded your dataset into df\n",
    "df = pd.read_csv(\"Walmart_Cleaned.csv\")\n",
    "\n",
    "# Drop non-numeric or categorical columns (if any)\n",
    "# 'Date' is dropped; 'Holiday_Flag' is optional (binary, may distort IQR)\n",
    "numeric_df = df.drop(columns=[\"Date\", \"Holiday_Flag\"])\n",
    "\n",
    "# List of columns in your DataFrame (assuming all columns are numeric)\n",
    "columns = numeric_df.columns\n",
    "\n",
    "# Calculate IQR for each column\n",
    "Q1 = numeric_df[columns].quantile(0.25)\n",
    "Q3 = numeric_df[columns].quantile(0.75)\n",
    "IQR = Q3 - Q1\n",
    "\n",
    "filter_condition = ((numeric_df[columns] >= (Q1 - 1.5 * IQR)) & (numeric_df[columns] <= (Q3 + 1.5 * IQR)))\n",
    "\n",
    "numeric_df_no_outliers = numeric_df[filter_condition.all(axis=1)]\n",
    "\n",
    "\n",
    "print(f\"Original shape: {numeric_df.shape}\")\n",
    "print(f\"Shape after removing outliers: {numeric_df_no_outliers.shape}\")\n",
    "\n",
    "numeric_df_no_outliers.to_csv(\"Walmart_Cleaned_No_Outliers.csv\", index=False)\n",
    "\n",
    "# Identify the rows that were removed (outliers)\n",
    "removed_rows = numeric_df[~filter_condition.all(axis=1)]\n",
    "\n",
    "# Display some of the removed rows\n",
    "print(f\"Number of removed rows: {removed_rows.shape[0]}\")\n",
    "print(removed_rows.head())\n",
    "# Get a summary of the removed rows\n",
    "removed_rows_summary = removed_rows.describe()\n",
    "\n",
    "# Print the summary of the removed rows\n",
    "print(\"Summary statistics of the removed rows (outliers):\")\n",
    "print(removed_rows_summary)\n",
    "\n"
   ]
  }
 ],
 "metadata": {
  "kernelspec": {
   "display_name": "Python 3",
   "language": "python",
   "name": "python3"
  },
  "language_info": {
   "codemirror_mode": {
    "name": "ipython",
    "version": 3
   },
   "file_extension": ".py",
   "mimetype": "text/x-python",
   "name": "python",
   "nbconvert_exporter": "python",
   "pygments_lexer": "ipython3",
   "version": "3.12.1"
  }
 },
 "nbformat": 4,
 "nbformat_minor": 5
}
